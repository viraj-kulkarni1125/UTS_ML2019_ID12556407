{
  "nbformat": 4,
  "nbformat_minor": 0,
  "metadata": {
    "colab": {
      "name": "A3_12556407.ipynb",
      "provenance": [],
      "collapsed_sections": [],
      "include_colab_link": true
    },
    "kernelspec": {
      "name": "python3",
      "display_name": "Python 3"
    }
  },
  "cells": [
    {
      "cell_type": "markdown",
      "metadata": {
        "id": "view-in-github",
        "colab_type": "text"
      },
      "source": [
        "<a href=\"https://colab.research.google.com/github/viraj-kulkarni1125/UTS_ML2019_ID12556407/blob/master/A3_12556407.ipynb\" target=\"_parent\"><img src=\"https://colab.research.google.com/assets/colab-badge.svg\" alt=\"Open In Colab\"/></a>"
      ]
    },
    {
      "cell_type": "markdown",
      "metadata": {
        "id": "fD53Z-xsDwXy",
        "colab_type": "text"
      },
      "source": [
        "Link to notebook: https://github.com/viraj-kulkarni1125/UTS_ML2019_ID12556407/blob/master/A3_12556407.ipynb"
      ]
    },
    {
      "cell_type": "markdown",
      "metadata": {
        "id": "rPuZ39LWthQk",
        "colab_type": "text"
      },
      "source": [
        "# Advanced Data Analytics - Assessment 3"
      ]
    },
    {
      "cell_type": "markdown",
      "metadata": {
        "id": "kXsmMBw8tosS",
        "colab_type": "text"
      },
      "source": [
        "## Question 1"
      ]
    },
    {
      "cell_type": "markdown",
      "metadata": {
        "id": "L_Fqzf5dzwdY",
        "colab_type": "text"
      },
      "source": [
        "Social media utilises websites and applications that allows users to share messages, interests, or other forms of expression with other users. Upon users agreeing to the terms and conditions of the platform, these messages can then be used and gathered in order to analyse large amounts of data. This can be used by polling organisations in which will allow the organisation to gain more support from individuals. Challenges will arise when performing social media analytics."
      ]
    },
    {
      "cell_type": "markdown",
      "metadata": {
        "id": "DiryLKSdzxQK",
        "colab_type": "text"
      },
      "source": [
        "Some current challenges in regard to using social media analytics include data quality, unstructured data, and time constraints."
      ]
    },
    {
      "cell_type": "markdown",
      "metadata": {
        "id": "2B1HkWe4zyjx",
        "colab_type": "text"
      },
      "source": [
        "In regard to data quality, this is primarily due to the number of accounts that are either duplicates or fake profiles. Many of which are utilised to perform “trolling,” which consists mostly of an individual utilising a fake account in order to upset other members on the social media platform. The data quality also includes access restrictions which make it more challenging to verify the account. In relation to polling organisations, this will have a negative effect as it will be considered to be difficult to acquire data from individuals for various reasons. This can be due to the person not wanting to talk about issues they may consider to be sensitive due to privacy issues or may simply not have an interest in the discussion of more serious content due to the lack of interest or knowledge. Individuals like these will have a negative effect on data quality. This will occur when gathering and accumulating the data. This will result in portions of text being irrelevant to the political organisation (Hausman 2014)."
      ]
    },
    {
      "cell_type": "markdown",
      "metadata": {
        "id": "dzFxJ3s_z05K",
        "colab_type": "text"
      },
      "source": [
        "Another challenge for social media analytics has to do with unstructured data. Unstructured data refers to data that is not organised in a pre-defined manner and primarily consists of texts and can also contain other forms of data, including dates and numbers (Global Media Insightm 2017). The unstructured data will vary based on the social media platform that is used. For example, Facebook will consist of reacts such as ‘Likes, Laugh, Sad,’ whereas messenger will primarily consist of text, voice, and images. As there is more focus on the text, this will require more structuring of the data so that analysis may be performed as it is considered text analytics is more difficult to perform analysis on as opposed to numeric analytics. In relation to polling organisations, this will primarily result in time being spent in performing analysis on unstructured data. This has an effect on the time constraint as well. This is because polling organisations tend to create polls for the general public. This will require further analysis of particular topics throughout mass amounts of data that is unorganised."
      ]
    },
    {
      "cell_type": "markdown",
      "metadata": {
        "id": "_jom4NM8z2XN",
        "colab_type": "text"
      },
      "source": [
        "Time constraints are also another challenge for polling organisations. In regard to social media, it consists of aspects that are trending in which something is considered popular for a brief period of time (Hausman 2014). This can be a movie, video, or any news that has occurred. Concerning polling organisations, this will require the process of acquiring data and performing analysis on it within a period of time for these trending aspects. It is considered to be challenging to predict the time frame of aspects that are trending. Based on the poll that is being conducted regarding a trending aspect, it is estimated that it can take days to analyse a dataset, especially when given unstructured data. After which there is a chance that the trending aspect is no longer trending. This is especially a problem should the aspect be related to the poll being conducted. This is because there is a lack of interest of which the user will have no desire to discuss the topic."
      ]
    },
    {
      "cell_type": "markdown",
      "metadata": {
        "id": "weUAFPpfz4W9",
        "colab_type": "text"
      },
      "source": [
        "The current system will be utilised by accumulating data from social media sites such as Facebook, Twitter, and YouTube. The data will then be used to analyse the personalities of an individual in regards to the poll being conducted by the polling organisation. A similar real-world scenario is the 2016 American election of which Donald Trump sought the help of a data scientist from India named Avinash Iragavarapu. Avinash conducted analysis on unstructured data in order to analyse the attitude of the American people in different states in order to get an idea of what each state generally seeks (Sharma 2016). A similar aspect will be undergone in regards to the poll topic and analysing how users feel in relation to this. Another real-world scenario regarding social media analytics is regarding corporations utilising data in order to discover deals that the user might be interested in. For instance, a user might discuss books that they are interested in. They will then see advertisements and deals on the same social media platform. Similarly, what the polling system will do is analyse keywords of what users have inputted and be allocated to the poll that is the most suitable for the keyword by the user. "
      ]
    },
    {
      "cell_type": "markdown",
      "metadata": {
        "id": "qQI1vxeMz4_u",
        "colab_type": "text"
      },
      "source": [
        "In regards to ethical and social issues, this will be that users on social media platforms may not be knowing of how the polling organisation is utilising their data despite having agreed to the terms and conditions of the platform. This will result in users having concerns about what their data is being used for and having the user not utilising the social media platform anymore. Another concern is bias. Some examples of this are when pages on sites such as Facebook tend to post biased topics, the user then has a different perceptive about the subject. This primarily affects university students who can be easily influenced by these biased topics. This can result in possible bias in the data accumulated by the analyst, resulting in lower data quality and polls being conducted poorly."
      ]
    },
    {
      "cell_type": "markdown",
      "metadata": {
        "id": "JaszWhkNz8Bh",
        "colab_type": "text"
      },
      "source": [
        "**References**\n",
        "- Global Media Insight 2017, 4 Challenges of Using Social Media Data for Analytics, viewed 29 October 2019, <https://www.globalmediainsight.com/blog/4-challenges-using-social-media-data-analytics/>.\n",
        "-\tHausman A. 2014, 5 Challenges of Real-time Social Media Analytics, Hausman Marketing Letter, viewed 28 August 2019, <https://www.hausmanmarketingletter.com/challenges-real-time-social-media-analytics/>.\n",
        "-\tHausman A. 2014, Voice of the Customer: Is Text Analytics Finally Growing Up?, Hausman Marketing Letter, viewed 28 October 2019, <https://www.hausmanmarketingletter.com/voice-consumer-text-analytics-finally-growing/>.\n",
        "-\tSharma, O. 2016, ‘Meet Avinash Iragavarapu, an Indian big data expert, who scripted Trump’s victory’, Dataquest, 11 November, viewed 29 October 2019, <https://www.dqindia.com/meet-avinash-iragavarapu-an-indian-big-data-expert-who-scripted-trumps-victory/>.\n"
      ]
    }
  ]
}