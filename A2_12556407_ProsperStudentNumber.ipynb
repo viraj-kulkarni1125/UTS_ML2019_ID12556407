{
  "nbformat": 4,
  "nbformat_minor": 0,
  "metadata": {
    "colab": {
      "name": "Untitled0.ipynb",
      "version": "0.3.2",
      "provenance": [],
      "include_colab_link": true
    },
    "kernelspec": {
      "name": "python3",
      "display_name": "Python 3"
    }
  },
  "cells": [
    {
      "cell_type": "markdown",
      "metadata": {
        "id": "view-in-github",
        "colab_type": "text"
      },
      "source": [
        "<a href=\"https://colab.research.google.com/github/viraj-kulkarni1125/UTS_ML2019_ID12556407/blob/master/A2_12556407_ProsperStudentNumber.ipynb\" target=\"_parent\"><img src=\"https://colab.research.google.com/assets/colab-badge.svg\" alt=\"Open In Colab\"/></a>"
      ]
    },
    {
      "cell_type": "markdown",
      "metadata": {
        "id": "MROPZk-Abktb",
        "colab_type": "text"
      },
      "source": [
        "# Introduction"
      ]
    },
    {
      "cell_type": "markdown",
      "metadata": {
        "id": "Y52KJUBMdU2_",
        "colab_type": "text"
      },
      "source": [
        "Define problem\n",
        "\n"
      ]
    },
    {
      "cell_type": "markdown",
      "metadata": {
        "id": "PRC6NZkXduVr",
        "colab_type": "text"
      },
      "source": [
        "Justify significance\n",
        "\n"
      ]
    },
    {
      "cell_type": "markdown",
      "metadata": {
        "id": "MBlzIB3Hduiv",
        "colab_type": "text"
      },
      "source": [
        "discuss the algorithm\n",
        "\n"
      ]
    },
    {
      "cell_type": "markdown",
      "metadata": {
        "id": "79IPuIVvduyu",
        "colab_type": "text"
      },
      "source": [
        "define input/output"
      ]
    },
    {
      "cell_type": "markdown",
      "metadata": {
        "id": "ft99XzfeckPI",
        "colab_type": "text"
      },
      "source": [
        "# Exploration"
      ]
    },
    {
      "cell_type": "markdown",
      "metadata": {
        "id": "WPqww52ydcQT",
        "colab_type": "text"
      },
      "source": [
        "identify challenges\n",
        "\n"
      ]
    },
    {
      "cell_type": "markdown",
      "metadata": {
        "id": "vBH6H83ydlFW",
        "colab_type": "text"
      },
      "source": [
        "design data structures/plan data models and tests"
      ]
    },
    {
      "cell_type": "markdown",
      "metadata": {
        "id": "t3bj9uWZcke9",
        "colab_type": "text"
      },
      "source": [
        "# Methodology"
      ]
    },
    {
      "cell_type": "markdown",
      "metadata": {
        "id": "S8ouzlQId-IT",
        "colab_type": "text"
      },
      "source": [
        "implement algorithms"
      ]
    },
    {
      "cell_type": "markdown",
      "metadata": {
        "id": "uyh0ww7sd-TC",
        "colab_type": "text"
      },
      "source": [
        "Build and train data models"
      ]
    },
    {
      "cell_type": "markdown",
      "metadata": {
        "id": "otyGsmLRckqU",
        "colab_type": "text"
      },
      "source": [
        "# Evaluation"
      ]
    },
    {
      "cell_type": "markdown",
      "metadata": {
        "id": "XU-oKduoeDwl",
        "colab_type": "text"
      },
      "source": [
        "Report execution on data "
      ]
    },
    {
      "cell_type": "markdown",
      "metadata": {
        "id": "VwHA-l_deDzk",
        "colab_type": "text"
      },
      "source": [
        "perform and report testing"
      ]
    },
    {
      "cell_type": "markdown",
      "metadata": {
        "id": "kZrbpaT1eD2d",
        "colab_type": "text"
      },
      "source": [
        "perform efficiency analysis"
      ]
    },
    {
      "cell_type": "markdown",
      "metadata": {
        "id": "4rdNBNtqeD4w",
        "colab_type": "text"
      },
      "source": [
        "do possible comparative study"
      ]
    },
    {
      "cell_type": "markdown",
      "metadata": {
        "id": "ZeJeUnECc_yg",
        "colab_type": "text"
      },
      "source": [
        "# Conclusion"
      ]
    },
    {
      "cell_type": "markdown",
      "metadata": {
        "id": "KHuPfqiXeQt1",
        "colab_type": "text"
      },
      "source": [
        "Discuss reflections"
      ]
    },
    {
      "cell_type": "markdown",
      "metadata": {
        "id": "2WJN0jXNeQxB",
        "colab_type": "text"
      },
      "source": [
        "propose possible improvements"
      ]
    },
    {
      "cell_type": "markdown",
      "metadata": {
        "id": "-0w85aN7c_17",
        "colab_type": "text"
      },
      "source": [
        "# Ethical"
      ]
    },
    {
      "cell_type": "markdown",
      "metadata": {
        "id": "x7ZtP-lWeXIS",
        "colab_type": "text"
      },
      "source": [
        "ethical"
      ]
    },
    {
      "cell_type": "markdown",
      "metadata": {
        "id": "PN8yF7dOdMiP",
        "colab_type": "text"
      },
      "source": [
        "# Video Pitch"
      ]
    },
    {
      "cell_type": "markdown",
      "metadata": {
        "id": "Kk0ieoy_cktC",
        "colab_type": "text"
      },
      "source": [
        ""
      ]
    },
    {
      "cell_type": "code",
      "metadata": {
        "id": "ZKTZRlRPP3uQ",
        "colab_type": "code",
        "colab": {}
      },
      "source": [
        "#DO NOT TOUCH THIS YET\n",
        "import pandas as pd\n",
        "import numpy as np\n",
        "\n",
        "#Importing the dataset from GitHub\n",
        "url = 'https://raw.githubusercontent.com/viraj-kulkarni1125/UTS_ML2019_ID12556407/master/Life%20Expectancy.csv'\n",
        "\n"
      ],
      "execution_count": 0,
      "outputs": []
    }
  ]
}