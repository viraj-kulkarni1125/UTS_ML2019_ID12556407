{
  "nbformat": 4,
  "nbformat_minor": 0,
  "metadata": {
    "kernelspec": {
      "display_name": "Python 3",
      "language": "python",
      "name": "python3"
    },
    "language_info": {
      "codemirror_mode": {
        "name": "ipython",
        "version": 3
      },
      "file_extension": ".py",
      "mimetype": "text/x-python",
      "name": "python",
      "nbconvert_exporter": "python",
      "pygments_lexer": "ipython3",
      "version": "3.5.4"
    },
    "toc": {
      "base_numbering": 1,
      "nav_menu": {},
      "number_sections": true,
      "sideBar": true,
      "skip_h1_title": false,
      "title_cell": "Table of Contents",
      "title_sidebar": "Contents",
      "toc_cell": false,
      "toc_position": {},
      "toc_section_display": true,
      "toc_window_display": false
    },
    "colab": {
      "name": "Machine Learning - Assessment 1_12556407.ipynb",
      "version": "0.3.2",
      "provenance": [],
      "collapsed_sections": [],
      "include_colab_link": true
    }
  },
  "cells": [
    {
      "cell_type": "markdown",
      "metadata": {
        "id": "view-in-github",
        "colab_type": "text"
      },
      "source": [
        "<a href=\"https://colab.research.google.com/github/viraj-kulkarni1125/UTS_ML2019_ID12556407/blob/master/Machine_Learning_Assessment_1_12556407.ipynb\" target=\"_parent\"><img src=\"https://colab.research.google.com/assets/colab-badge.svg\" alt=\"Open In Colab\"/></a>"
      ]
    },
    {
      "cell_type": "markdown",
      "metadata": {
        "id": "Ahf2fENpV3PG",
        "colab_type": "text"
      },
      "source": [
        "# Review Report on \"Eigenfaces vs. Fisherfaces: Recognition Using Class Specific Linear Projection\""
      ]
    },
    {
      "cell_type": "markdown",
      "metadata": {
        "id": "02a6gEyCe0hC",
        "colab_type": "text"
      },
      "source": [
        "Link to notebook: https://github.com/viraj-kulkarni1125/UTS_ML2019_ID12556407/blob/master/A1.ipynb"
      ]
    },
    {
      "cell_type": "markdown",
      "metadata": {
        "id": "C2rrPLltV3PH",
        "colab_type": "text"
      },
      "source": [
        "## Introduction"
      ]
    },
    {
      "cell_type": "markdown",
      "metadata": {
        "id": "b4dYmXuNFY-Y",
        "colab_type": "text"
      },
      "source": [
        "The research paper title that is being discussed in this report is \"Eigenfaces vs. Fisherfaces: Recognition Using Class Specific Linear Projection.\" This research paper was written by Peter N. Belhumeur, Joao P. Hespanha, and David J. Kriegman, in which it was published in the year of 1997. The purpose of this research paper is to discuss the new approach to a face recognition algorithm uses the Fisherfaces method, a method produced by the authors, as well as the Eigenface method. These two methods help take into account lighting and facial expressions. The paper also discusses and compares four methods for facial recognition in regards to lighting and facial expressions. These are \"correlation, a variant of the linear subspace method suggested by, the Eigenface method, and the Fisherface method developed here.\" (Belhumeur, Hespanha & Kriegman 1997)\n",
        "\n",
        "\n"
      ]
    },
    {
      "cell_type": "markdown",
      "metadata": {
        "id": "KHIyst5OV3PM",
        "colab_type": "text"
      },
      "source": [
        "## Content"
      ]
    },
    {
      "cell_type": "markdown",
      "metadata": {
        "id": "6NPV-3f4V3PP",
        "colab_type": "text"
      },
      "source": [
        "The current paper goes through facial recognition, which is a significant section in machine learning and involves pattern recognition. The paper also goes through the problem that is discussed, the problem being that there are two sets of face images. The first set consists of a collection of images, each of which are labeled with the individual's name. This set is known as the learning set. The second set consists of similar images of the people from the learning set. However, these images do not contain a label. This is the test set. The paper discusses the algorithm that was produced by the authors due to the \"reliable techniques for recognition under more extreme variations have proven elusive.\" (Belhumeur, Hespanha & Kriegman 1997). The paper discusses that this will be attempted to be solved by comparing four methods involving facial recognition taking into account the variation in the lighting and facial expressions. These methods are Correlation, Eigenfaces, linear subspace, and the Fisherface method. \n",
        "\n",
        "According to the paper, correlation was used to solve the problem when images in the test set are recognised and are assigned a \"label of the closest point in the learning set, where distances are measured in the image space.\" (Belhumeur, Hespanha & Kriegman 1997). This process would be most suitable should the images be normalised to have a mean of zero as well as unit variance. Due to the process, it is independent of lighting. This method also has many disadvantages. Firstly, a great amount of storage will be needed to store the images for the learning test of which many images will be required. Correlation is also considered to be expensive due to the need to \"correlate the image of the test face with each image in the learning set; in an effort to reduce the computation time, implementors.\" (Belhumeur, Hespanha & Kriegman 1997). Lastly, in order for the method to work reliably under lighting, a large learning set with different lighting conditions. This is so that the algorithm will take into account the differing lighting conditions.\n",
        "\n",
        "\"Eigenface algorithm is one representative approach that projects face images onto a low dimensional feature space using principal components analysis (PCA) to choose the maximal total scatter across all classes.\" (Zhang et al. 2014). The authors of the page used Eigenfaces to help solve the problem by taking several samples and assuming the images belong to a class. It was then considered to use linear transformation to map the samples. This was used in a formula to calculate the feature vectors: $ y_k = W^Tx_x, k=1,2…N $. This method is considered to be the same as the correlation method as previously discussed if the classification is utilised through the nearest neighbor classifier. A disadvantage of this method is that \"the scatter being maximized is due not only to the between-class scatter that is useful for classification, but also to the within-class scatter that, for classification purposes, is unwanted information.\" (Belhumeur, Hespanha & Kriegman 1997). \n",
        "\n",
        "In relation to the Eigenface and the correlation methods, these do not take into account the Lambertian surface, which is in relation to reflection. In regards to classification, the method has shown that \"3D linear subspace of the high-dimensional image space. This observation suggests a simple classification algorithm to recognize Lambertian surfaces—insensitive to a wide range of lighting conditions.\" (Belhumeur, Hespanha & Kriegman 1997). Linear Subspaces utilise the image intensity when a surface is observed through a camera. This formula is $ E(p)= a(p)n(p)^Ts$. This formula consists of n(p) being the \"unit inward normal vector to the surfaceat the point p, and a(p) is the albedo of the surface at p\" (Belhumeur, Hespanha & Kriegman 1997). The Linear Subspace algorithm would be considered to be more accurate should there be no noise or shadows. The disadvantages of this algorithm is that some areas of the face are variable due to the shadows and facial expressions. Another problem is that the distance to each linear subspace of each individual must be measured in order to utilise and recognise the test images. In consideration of the storage, the algorithm must be kept three images of each individual.\n",
        "\n",
        "The Fisherface \"method  is  a combination  of  PCA  and  LDA  methods.  The  PCA  method  is  used  to  solve  singular  problems  by reducing  the  dimensions  before  being  used  to  perform  the  LDA  process.  But  the  weakness  of  this method  is  that  when  the  PCA  dimension  reduction  process  will  cause  some  loss  of  discriminant information useful in the LDA process.\" (Anggo & Arapu 2018). Due to the training set having labels for each picture, the authors \"argue that using class specific linear methods for dimensionality reduction and simple classifiers in the reduced feature space, one may get better recognition rates than with either the Linear Subspace method or the Eigenface method. Fisher’s Linear Discriminant (FLD) is an example of a class specific method.\" (Belhumeur, Hespanha & Kriegman 1997)."
      ]
    },
    {
      "cell_type": "markdown",
      "metadata": {
        "id": "xGDOWCDRV3PV",
        "colab_type": "text"
      },
      "source": [
        "## Innovation"
      ]
    },
    {
      "cell_type": "markdown",
      "metadata": {
        "id": "IHqtHNiGV3PZ",
        "colab_type": "text"
      },
      "source": [
        "In the paper, the authors developed their own algorithm to help solve the facial recgonition problem. The algorithm took into account several factors in facial recognition including lighting and facial expressions. The authors have also compared and contrasted their algorithm to other algorithms that can be used to help solve the facial recognition problem.\n",
        "\n",
        "Even though the authors were aware of the fact that there were algorithms that could help assist with the facial recognition problem, they developed an algorithm that is based off of Fisher's Linear Discriminant (FLD). Evidence was also provided that the Fisherface algorithm would have lower error rates than when compared with the other three algorithms. In regards to glasses, the PCA, in which the Eigenface method uses, had a higher error rate than the Fisherface algorithm. The PCA had an error rate of 52.6% whilst the Fisherface algorithm had an error rate of 5.6%. \n",
        "\n",
        "Due to the paper being published in the year of 1997, the methods that were undergone to develop the algorithm based off of the FLD may or may not be outdated. The algorithm was developed based on the low dimensional spaces. This causes insensitivity for lighting and facial expressions. This was attempted to be overcome by the authors by choosing projection directions which projected variability in the  lighting and facial expressions of the images. The use of the FLD helps to maximise \"the ratio of between-class scatter to that of within-class scatter.\" (Belhumeur, Hespanha & Kriegman 1997)\n",
        "\n",
        "The Fisherface algorithm was also compared with three other methods and have undergone the attempting of the same problem. All of these were measured in terms of their fail rate when labelling the test set's pictures. Also, there are other models that can help to solve the facial recognition problem. These include the k-nearest neighbours, decision trees, convolutional neural networks, etc. However, this paper only focuses on comparing the algorithm that was developed by the authors and comparing it to the correlation, Linear Subspaces, and the Eigenface methods."
      ]
    },
    {
      "cell_type": "markdown",
      "metadata": {
        "id": "zngoXF7mV3Pc",
        "colab_type": "text"
      },
      "source": [
        "## Technical quality"
      ]
    },
    {
      "cell_type": "markdown",
      "metadata": {
        "id": "-RRjd12QV3Pe",
        "colab_type": "text"
      },
      "source": [
        "The research paper goes through a brief discussion about the facial recognition problem as well as developing an algorithm that helps take into account the facial expressions and lighting of images whilst comparing the performance of it to three other methods. However, there is little explanation as to why the authors decided to utilise the three methods as compared to other methods that can help to solve the facial recognition problem efficiently. \n",
        "\n",
        "In the year that the paper was published, the algorithm that the authors developed had a much lower error rate than the other methods when attempting to solve the problem. The datasets also consisted of training sets and test sets. This allowed the algorithm to utilise the training set in order to determine the test set labels. The two sets also took into account into training the algorithm in regards to facial expressions and lighting, combining variations of the two factors together. \n",
        "\n",
        "It can be said that there would be a small amount of bias when conducting the experiment. Whilst the data was gathered from an image database from the Harvard Robotics Laboratory, a reputable source. There was also only 330 images of five people that were used to conduct this research. This might be used to discuss the performance of the algorithm.\n",
        "\n",
        "If the methods were utilised in the present time, the results can be varied due to the methods requiring more time in order to train the model in facial recognition of the large sets of data. The fale rate might be skewed when comparing to modern methods such as Convolutional Neural Networks. However, there would be lower amounts of bias and a difference in results should there have been more people been used in conducting the experiment with more images utilised."
      ]
    },
    {
      "cell_type": "markdown",
      "metadata": {
        "id": "KthJ1rtyV3Pi",
        "colab_type": "text"
      },
      "source": [
        "## Application and X-factor"
      ]
    },
    {
      "cell_type": "markdown",
      "metadata": {
        "id": "fl4mxtn2mX8U",
        "colab_type": "text"
      },
      "source": [
        "The combined technique and application of this paper were to utilise the FLD and create an algorithm to be utilised for the training of facial recognition. The application is primarily focused on the lighting of images and facial expressions. The algorithm was also used to determine the error rate of the results achieved in the test set.\n",
        "\n",
        "What was most suitable for this application was the use of classification methods. Facial recognition and pattern recognition are both classification methods. In the paper, all methods are used for classification. Two of which are built for facial recognition training. The other two methods were based on distances of specific points across each person's face, though this had a lower error rate than the Eigenfaces method. \n",
        "\n",
        "While it was specified that the Fisherface method was produced by the authors, the research paper could also have listed the reasons as to why the the other three methods were utilised in solving the problem, especially due to the fact that there are numerous disadvantages that were discussed in the paper. It was also not specified as to why the low number of images and the small number of individuals were used in the training of the model as only 330 images of 5 people were used. Utilising more images of people will help to train the model further. \n",
        "\n",
        "Another suggestion for the research paper is that it could also have thoroughly explained the formulas that were utilised in the methods. Many variables were left undefined in the formulas, and there was some difficulty in making sense of them. There is also a lot of assumed knowledge in regards to the paper. An example of this is when Fisher's Linear Discriminant (FLD) is discussed. The paper only provides a brief description of this and of how the Fisherface's model is a derivative of the FLD.\n",
        "\n",
        "Lastly, the methods that helped to solve the facial recognition problem can allow for the assumption that it was to get lower error rates through the use of the other methods. Due to this, it can also be assumed that the method can also be used in different divisions of classification other than facial recognition. This should involve more research before conducting this as well as any defects in order to reduce the need for computational power and to reduce the usage of time. This should be done before undergoing the training of the models."
      ]
    },
    {
      "cell_type": "markdown",
      "metadata": {
        "id": "74b99KPJV3Pr",
        "colab_type": "text"
      },
      "source": [
        "## Presentation"
      ]
    },
    {
      "cell_type": "markdown",
      "metadata": {
        "id": "-YoKaGJQV3Pv",
        "colab_type": "text"
      },
      "source": [
        "The paper has a clear structure overall. In the paper, there is an abstract which gives a brief discussion about the goal and the research that was gone. In the introduction stage, the facial recognition problem was discussed and how the authors would attempt to fix the problem as well as the discussion of the training and test sets consisting of many images. The paper then also discussed the advantages and disadvantages of the four methods that were used. The results were then discussed in which the results section had a good representation of the results that were achieved through the use of linear graphs to show the fail rate of the methods. \n",
        "\n",
        "Many formulas were discussed in the paper. These formulas were not discussed in full detail. This could have been avoided should the authors have explained the formulas better through discussing the meaning of the variables in the formula.It was also not addressed as to why only 330 images of 5 people were utilised in the training of the methods. Due to this, it can be assumed that there is bias as to favour the performance of the author's algorithm.\n",
        "\n",
        "Some positive aspects of the paper were that the results were easy to understand and that there was a clear discussion of the results achieved. The conclusion section was also easy to understand and noted the key points that were discussed from the paper. \n",
        "\n",
        "The authors of the paper have conducted good quality research. Due to the usage of many mathematical formulas, these were shown correctly but lacked the proper discussion regarding them. It was also not clear as to why the Eigenfaces, Linear Subspaces, and the correlation methods were utilised and used to compare with the author's Fisherface method.\n",
        "\n",
        "Apart from these negative aspects, the paper thoroughly discusses the research conducted but may be subject to bias. It can also be discussed that the results were manipulated due to bias and the lack of evidence in providing the results. "
      ]
    },
    {
      "cell_type": "markdown",
      "metadata": {
        "id": "xoS27YwzV3Pw",
        "colab_type": "text"
      },
      "source": [
        "## References\n",
        "\n",
        "\n",
        "\n",
        "*   Belhumeur, P., Hespanha, J., Kriegman, D. 1997, 'Eigenfaces vs. Fisherfaces: Recognition Using Class Specific Linear Projection', *IEEE Transactions on Pattern Analysis and Machine Intelligence*, vol. 19, no. 7, pp. 711-720\n",
        "*   Zhang, H., Liu, W., Dong, L., Wang, Y. 2014, 'Sparse eigenfaces analysis for recognition', *International Conference on Signal Processing Proceedings*, vol. 14, no. 1 , pp. 887-890\n",
        "*   Anggo, M., Arapu, L. 2018, 'Face Recognition Using Fisherface Method', *Journal of Physics: Conference Series*, vol. 1028, no. 1, pp. 1-9 \n",
        "\n",
        "\n"
      ]
    }
  ]
}